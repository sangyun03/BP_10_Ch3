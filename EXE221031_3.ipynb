{
  "nbformat": 4,
  "nbformat_minor": 0,
  "metadata": {
    "colab": {
      "provenance": [],
      "authorship_tag": "ABX9TyOLZYtLt61ng9Umy05nXhLK",
      "include_colab_link": true
    },
    "kernelspec": {
      "name": "python3",
      "display_name": "Python 3"
    },
    "language_info": {
      "name": "python"
    }
  },
  "cells": [
    {
      "cell_type": "markdown",
      "metadata": {
        "id": "view-in-github",
        "colab_type": "text"
      },
      "source": [
        "<a href=\"https://colab.research.google.com/github/sangyun03/BP_10_Ch3/blob/main/EXE221031_3.ipynb\" target=\"_parent\"><img src=\"https://colab.research.google.com/assets/colab-badge.svg\" alt=\"Open In Colab\"/></a>"
      ]
    },
    {
      "cell_type": "code",
      "execution_count": 1,
      "metadata": {
        "colab": {
          "base_uri": "https://localhost:8080/"
        },
        "id": "HaJ_gkOm0chb",
        "outputId": "43dba0d9-e574-49a7-faff-ccdba1756fd7"
      },
      "outputs": [
        {
          "output_type": "stream",
          "name": "stdout",
          "text": [
            "x의 값을 입력하시오: 10\n",
            "y의 값을 입력하시오: 20\n",
            "x와 y의 합은:  30\n",
            "x와 y의 합은:  -10\n",
            "x와 y의 곱은:  200\n",
            "x와 y의 평균은:  15.0\n",
            "x와 y의 작은수:  10\n",
            "x와 y의 큰수는:  20\n"
          ]
        }
      ],
      "source": [
        "x = int(input(\"x의 값을 입력하시오: \"))\n",
        "y = int(input(\"y의 값을 입력하시오: \"))\n",
        "print(\"x와 y의 합은: \",x + y)\n",
        "print(\"x와 y의 합은: \",x - y)\n",
        "print(\"x와 y의 곱은: \",x * y)\n",
        "print(\"x와 y의 평균은: \",(x + y)/2)\n",
        "print(\"x와 y의 작은수: \",min(x ,y))\n",
        "print(\"x와 y의 큰수는: \",max(x ,y))"
      ]
    },
    {
      "cell_type": "code",
      "source": [
        "r = float(input(\"r값을 입력하시오: \")) #변수 r의 값을 사용자로부터 받는다. float형으로 \n",
        "h = float(input(\"h값을 입력하시오: \")) #변수 h의 값을 사용자로부터 받는다. float형으로 \n",
        "vol = 3.141592*r**2 * h\n",
        "print(\"원기둥의 부피는:\", vol, \"입니다.\")\n"
      ],
      "metadata": {
        "colab": {
          "base_uri": "https://localhost:8080/"
        },
        "id": "nflCAtfq2XY0",
        "outputId": "2f2b287c-0700-42ca-b49b-8fe9ee190a64"
      },
      "execution_count": null,
      "outputs": [
        {
          "output_type": "stream",
          "name": "stdout",
          "text": [
            "r값을 입력하시오: 10\n",
            "h값을 입력하시오: 100\n",
            "원기둥의 부피는: 31415.92 입니다.\n"
          ]
        }
      ]
    },
    {
      "cell_type": "code",
      "source": [
        "number=int(input(\"정수를 입력하시오.:\"))\n",
        "sum = 0                 #변수 sum을 초기화 0으로 한다.\n",
        "sum = sum + number % 10\n",
        "number = number // 10\n",
        "sum = sum + number % 10\n",
        "number = number // 10\n",
        "sum = sum + number % 10\n",
        "number = number // 10\n",
        "sum = sum + number % 10\n",
        "number = number // 10\n",
        "print(\"자리수의 합: \", str(sum))"
      ],
      "metadata": {
        "colab": {
          "base_uri": "https://localhost:8080/"
        },
        "id": "KE8XJKLf6rsx",
        "outputId": "bfc6193f-3572-426a-f1dc-d5e306a9b738"
      },
      "execution_count": 2,
      "outputs": [
        {
          "output_type": "stream",
          "name": "stdout",
          "text": [
            "정수를 입력하시오.:1234\n",
            "자리수의 합:  10\n"
          ]
        }
      ]
    },
    {
      "cell_type": "code",
      "source": [
        "x1 = int(input(\"x1의 값: \"))\n",
        "y1 = int(input(\"y1의 값: \"))\n",
        "\n",
        "x2 = int(input(\"x2의 값: \"))\n",
        "y2 = int(input(\"y2의 값: \"))\n",
        "dist = ((x2-x1)**2 + (y2-y1)**2)**0.5\n",
        "print(\"두점 사이의 거리=\", dist, \"입니다.\")"
      ],
      "metadata": {
        "colab": {
          "base_uri": "https://localhost:8080/"
        },
        "id": "Y59dP4IF8N5s",
        "outputId": "197c5dd5-7fe3-4a14-a04a-9a70a5c1ab97"
      },
      "execution_count": null,
      "outputs": [
        {
          "output_type": "stream",
          "name": "stdout",
          "text": [
            "x1의 값: 0\n",
            "y1의 값: 0\n",
            "x2의 값: 100\n",
            "y2의 값: 100\n",
            "두점 사이의 거리= 141.4213562373095 입니다.\n"
          ]
        }
      ]
    },
    {
      "cell_type": "code",
      "source": [
        "import time \n",
        "fsecond=time.time()\n",
        "total_sec = int(fsecond)\n",
        "total_min = total_sec // 60\n",
        "minute = total_min % 60\n",
        "total_hour = total_min // 60\n",
        "hour = total_hour % 24 \n",
        "\n",
        "print(\"현재시각은 (영국 그리니치 표준시각): \", str(hour) + \"시\"+ str(minute) +\"분\")\n"
      ],
      "metadata": {
        "colab": {
          "base_uri": "https://localhost:8080/"
        },
        "id": "Ihb1AWOOH62N",
        "outputId": "da761b22-18be-497e-b7d1-2192c60dbfc9"
      },
      "execution_count": null,
      "outputs": [
        {
          "output_type": "stream",
          "name": "stdout",
          "text": [
            "현재시각은 (영국 그리니치 표준시각):  3시47분\n"
          ]
        }
      ]
    },
    {
      "cell_type": "code",
      "source": [
        "weight = int(input(\"물체의 무게를 입력하시오(킬로그램): \"))\n",
        "speed = int(input(\"물체의 속도를 입력하시오(미터/초): \"))\n",
        "\n",
        "print(\"물체는\", 1/2 * weight*speed**2, \"(줄)의 에너지를 가지고 있다.\")"
      ],
      "metadata": {
        "id": "1SKB9CpSD7gh",
        "outputId": "15f8de25-5271-4a78-9ccd-484dbba0b2d3",
        "colab": {
          "base_uri": "https://localhost:8080/"
        }
      },
      "execution_count": 3,
      "outputs": [
        {
          "output_type": "stream",
          "name": "stdout",
          "text": [
            "물체의 무게를 입력하시오(킬로그램): 10\n",
            "물체의 속도를 입력하시오(미터/초): 100\n",
            "물체는 50000.0 (줄)의 에너지를 가지고 있다.\n"
          ]
        }
      ]
    }
  ]
}